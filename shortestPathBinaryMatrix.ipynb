{
  "nbformat": 4,
  "nbformat_minor": 0,
  "metadata": {
    "colab": {
      "provenance": [],
      "authorship_tag": "ABX9TyPtnezJWPuIUU2QNDJNv/Tn",
      "include_colab_link": true
    },
    "kernelspec": {
      "name": "python3",
      "display_name": "Python 3"
    },
    "language_info": {
      "name": "python"
    }
  },
  "cells": [
    {
      "cell_type": "markdown",
      "metadata": {
        "id": "view-in-github",
        "colab_type": "text"
      },
      "source": [
        "<a href=\"https://colab.research.google.com/github/jyizheng/ACM/blob/master/shortestPathBinaryMatrix.ipynb\" target=\"_parent\"><img src=\"https://colab.research.google.com/assets/colab-badge.svg\" alt=\"Open In Colab\"/></a>"
      ]
    },
    {
      "cell_type": "code",
      "execution_count": 35,
      "metadata": {
        "colab": {
          "base_uri": "https://localhost:8080/"
        },
        "id": "4K6jeXjw1YVM",
        "outputId": "fab9b005-31ae-418c-8679-121bb3a7ab60"
      },
      "outputs": [
        {
          "output_type": "stream",
          "name": "stdout",
          "text": [
            "2\n",
            "4\n"
          ]
        }
      ],
      "source": [
        "from typing import List\n",
        "\n",
        "class Solution:\n",
        "    def shortestPathBinaryMatrix(self, grid: List[List[int]]) -> int:\n",
        "        N = len(grid)\n",
        "        if grid[0][0] != 0 or grid[N-1][N-1] != 0:\n",
        "            return -1\n",
        "\n",
        "        def valid(x, y):\n",
        "            if x < 0 or x >= N or y < 0 or y >= N:\n",
        "                return False\n",
        "            return True\n",
        "\n",
        "        def bfs():\n",
        "            queue = [(0, 0, 1)]\n",
        "            delta = [(0,1), (0,-1), (1,0), (-1, 0), (1,1), (-1,1), (1, -1), (-1, -1)]\n",
        "            visit = [[False]*N for _ in range(N)]\n",
        "            visit[0][0] = True\n",
        "            while queue:\n",
        "              x, y, length = queue.pop(0)\n",
        "              if x == N-1 and y == N-1:\n",
        "                return length\n",
        "\n",
        "              for dx, dy in delta:\n",
        "                newx, newy = x+dx, y+dy\n",
        "                if valid(newx, newy) and not visit[newx][newy]:\n",
        "                  #print(newx, newy)\n",
        "                  if grid[newx][newy] == 0:\n",
        "                    queue.append((newx, newy, length+1))\n",
        "                  visit[newx][newy] = True\n",
        "\n",
        "            return -1\n",
        "\n",
        "        res = bfs()\n",
        "        return res\n",
        "\n",
        "input = [[0,1],[1,0]]\n",
        "sol = Solution()\n",
        "res = sol.shortestPathBinaryMatrix(input)\n",
        "print(res)\n",
        "\n",
        "\n",
        "\n",
        "input = [[0,0,0],[1,1,0],[1,1,0]]\n",
        "sol = Solution()\n",
        "res = sol.shortestPathBinaryMatrix(input)\n",
        "print(res)"
      ]
    }
  ]
}